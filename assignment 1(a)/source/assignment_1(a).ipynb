{
  "nbformat": 4,
  "nbformat_minor": 0,
  "metadata": {
    "colab": {
      "provenance": []
    },
    "kernelspec": {
      "name": "python3",
      "display_name": "Python 3"
    },
    "language_info": {
      "name": "python"
    }
  },
  "cells": [
    {
      "cell_type": "code",
      "execution_count": null,
      "metadata": {
        "id": "FnFqzAk337tB"
      },
      "outputs": [],
      "source": [
        "import pandas as pd\n",
        "import numpy as np\n",
        "import matplotlib.pyplot as plt\n"
      ]
    },
    {
      "cell_type": "code",
      "source": [
        "from google.colab import drive\n",
        "drive.mount('/content/drive')\n",
        "\n",
        "DF = pd.read_csv(\"//content/drive/MyDrive/datasheet/fartilitydatasheet/data.csv\")\n",
        "DF\n",
        "\n"
      ],
      "metadata": {
        "id": "l6W3HfsPbr_K"
      },
      "execution_count": null,
      "outputs": []
    },
    {
      "cell_type": "code",
      "source": [
        "raw_data_path = '/content/drive/MyDrive/datasheet/fartilitydatasheet/data.csv'\n",
        "raw_data = pd.read_csv(raw_data_path)\n",
        "\n",
        "cleaned_data = raw_data.dropna()\n",
        "\n",
        "data = pd.DataFrame({\n",
        "    'Height': [71.5, 69.4, 68.2, 67.8, 68.7, 69.8, 70.1, 67.9, 66.8],\n",
        "    'Weight': [136, 153, 142, 144, 123, 141, 136, 112, 120],\n",
        "    'Age': [19, 45, 22, 29, 50, 51, 23, 17, 39],\n",
        "    'Grip strength': [31, 29, 28, 24, 26, 22, 20, 19, 31],\n",
        "    'Frailty': ['N', 'N', 'Y', 'Y', 'N', 'Y', 'Y', 'N', 'N']\n",
        "})\n",
        "data['Frailty'] = data['Frailty'].map({'Y': 1, 'N': 0})\n",
        "cleaned_data_path = '/content/drive/MyDrive/datasheet/fartilitydatasheet/data/cleaned_data.csv'\n",
        "data.to_csv(cleaned_data_path, index=False)\n",
        "DF = pd.read_csv ('/content/drive/MyDrive/datasheet/fartilitydatasheet/data/cleaned_data.csv')\n",
        "DF"
      ],
      "metadata": {
        "id": "KV23itzweWXq"
      },
      "execution_count": null,
      "outputs": []
    },
    {
      "cell_type": "code",
      "source": [
        "cleaned_data = pd.read_csv(cleaned_data_path)\n",
        "descriptive_stats = cleaned_data.describe()\n",
        "plt.figure(figsize=(10, 6))\n",
        "plt.scatter(cleaned_data['Age'], cleaned_data['Grip strength'])\n",
        "plt.xlabel('Age')\n",
        "plt.ylabel('Grip strength')\n",
        "plt.title('Scatter Plot of Age vs. Grip strength')\n",
        "plt.grid(True)\n",
        "plt.savefig('/content/drive/MyDrive/datasheet/fartilitydatasheet/plots/scatter_plot.png')\n",
        "plt.show()\n",
        "correlation_coefficient = cleaned_data['Age'].corr(cleaned_data['Grip strength'])\n",
        "analysis_results_path = '/content/drive/MyDrive/datasheet/fartilitydatasheet/results/analysis_results.csv'\n",
        "descriptive_stats.to_csv(analysis_results_path)\n",
        "\n",
        "plt.figure(figsize=(10, 6))\n",
        "plt.scatter(cleaned_data['Age'], cleaned_data['Frailty'])\n",
        "plt.xlabel('Age')\n",
        "plt.ylabel('Frailty')\n",
        "plt.title('Scatter Plot of Age vs. Frailty')\n",
        "plt.grid(True)\n",
        "plt.savefig('/content/drive/MyDrive/datasheet/fartilitydatasheet/plots/scatter_plot1.png')\n",
        "plt.show()\n",
        "correlation_coefficient = cleaned_data['Age'].corr(cleaned_data['Frailty'])\n",
        "analysis_results_path = '/content/drive/MyDrive/datasheet/fartilitydatasheet/results/analysis_results1.csv'\n",
        "descriptive_stats.to_csv(analysis_results_path)\n"
      ],
      "metadata": {
        "id": "70XCB2HGfXMn"
      },
      "execution_count": null,
      "outputs": []
    }
  ]
}